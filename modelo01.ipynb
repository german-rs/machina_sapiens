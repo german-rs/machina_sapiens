{
  "nbformat": 4,
  "nbformat_minor": 0,
  "metadata": {
    "colab": {
      "provenance": [],
      "authorship_tag": "ABX9TyNnNdYFrSrlTt+RHStuMwOI",
      "include_colab_link": true
    },
    "kernelspec": {
      "name": "python3",
      "display_name": "Python 3"
    },
    "language_info": {
      "name": "python"
    }
  },
  "cells": [
    {
      "cell_type": "markdown",
      "metadata": {
        "id": "view-in-github",
        "colab_type": "text"
      },
      "source": [
        "<a href=\"https://colab.research.google.com/github/german-rs/machina_sapiens/blob/main/modelo01.ipynb\" target=\"_parent\"><img src=\"https://colab.research.google.com/assets/colab-badge.svg\" alt=\"Open In Colab\"/></a>"
      ]
    },
    {
      "cell_type": "code",
      "source": [
        "import numpy as np\n",
        "\n",
        "# Función de activación (Sigmoide)\n",
        "def sigmoid(x):\n",
        "    return 1 / (1 + np.exp(-x))\n",
        "\n",
        "# Derivada de la función sigmoide (para ajustar los pesos)\n",
        "def sigmoid_derivative(x):\n",
        "    return x * (1 - x)\n",
        "\n",
        "# Datos de entrada (horas de estudio)\n",
        "X = np.array([[2], [3], [5], [1]])  # Horas de estudio\n",
        "y = np.array([[0], [0], [1], [0]])  # Aprobó (1) o no (0)\n",
        "\n",
        "# Inicializar pesos y sesgo\n",
        "np.random.seed(42)  # Reproducibilidad\n",
        "weights = np.random.rand(X.shape[1], 1)  # Peso inicial\n",
        "bias = np.random.rand(1)  # Sesgo inicial\n",
        "learning_rate = 0.1  # Tasa de aprendizaje\n",
        "\n",
        "# Entrenamiento de la neurona\n",
        "for epoch in range(1000):  # Iteraciones\n",
        "    # Paso hacia adelante (Forward)\n",
        "    z = np.dot(X, weights) + bias  # Entrada ponderada\n",
        "    predictions = sigmoid(z)  # Salida de la neurona\n",
        "\n",
        "    # Calcular el error\n",
        "    error = y - predictions\n",
        "\n",
        "    # Paso hacia atrás (Backpropagation)\n",
        "    adjustments = error * sigmoid_derivative(predictions)\n",
        "    weights += np.dot(X.T, adjustments) * learning_rate  # Actualización del peso\n",
        "    bias += np.sum(adjustments) * learning_rate  # Actualización del sesgo\n",
        "\n",
        "# Predicción final\n",
        "print(\"Pesos finales:\", weights)\n",
        "print(\"Sesgo final:\", bias)\n",
        "\n",
        "# Probar con nuevas horas de estudio\n",
        "new_data = np.array([[4]])  # Nuevas horas de estudio\n",
        "result = sigmoid(np.dot(new_data, weights) + bias)\n",
        "print(\"Probabilidad de aprobar:\", result[0])\n"
      ],
      "metadata": {
        "id": "nOpMfy_73GlY",
        "outputId": "609a185e-bf43-43cc-9803-2bdc37df7e85",
        "colab": {
          "base_uri": "https://localhost:8080/"
        }
      },
      "execution_count": null,
      "outputs": [
        {
          "output_type": "stream",
          "name": "stdout",
          "text": [
            "Pesos finales: [[1.29624051]]\n",
            "Sesgo final: [-5.04205222]\n",
            "Probabilidad de aprobar: [0.53566677]\n"
          ]
        }
      ]
    }
  ]
}